{
 "cells": [
  {
   "cell_type": "code",
   "execution_count": null,
   "metadata": {},
   "outputs": [],
   "source": [
    "import multiprocessing as mp\n",
    "import threading as td\n",
    "\n",
    "def job(q):\n",
    "    #print('aaaaaaa')\n",
    "    res = 0\n",
    "    for i in range(100):\n",
    "        res += i + i\n",
    "    # queue\n",
    "    q.put(res)\n",
    "\n",
    "#创建线程\n",
    "#t1 = td.Thread(target = job, args=(1,2))\n",
    "#t1.start()\n",
    "#t1.join()\n",
    "\n",
    "#创建进程\n",
    "q = mp.Queue()\n",
    "p1 = mp.Process(target = job, args=(q,))\n",
    "p2 = mp.Process(target = job, args=(q,))\n",
    "p1.start()\n",
    "p2.start()\n",
    "p1.join()\n",
    "p2.join()\n",
    "\n",
    "res1 = q.get()\n",
    "res2 = q.get()\n",
    "\n",
    "print(res1 + res2)"
   ]
  },
  {
   "cell_type": "code",
   "execution_count": null,
   "metadata": {},
   "outputs": [],
   "source": []
  }
 ],
 "metadata": {
  "kernelspec": {
   "display_name": "Python 3",
   "language": "python",
   "name": "python3"
  },
  "language_info": {
   "codemirror_mode": {
    "name": "ipython",
    "version": 3
   },
   "file_extension": ".py",
   "mimetype": "text/x-python",
   "name": "python",
   "nbconvert_exporter": "python",
   "pygments_lexer": "ipython3",
   "version": "3.6.3"
  }
 },
 "nbformat": 4,
 "nbformat_minor": 2
}
