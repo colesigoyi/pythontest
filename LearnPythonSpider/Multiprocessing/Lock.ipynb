{
 "cells": [
  {
   "cell_type": "markdown",
   "metadata": {},
   "source": [
    "# 对锁的实例"
   ]
  },
  {
   "cell_type": "code",
   "execution_count": 8,
   "metadata": {},
   "outputs": [
    {
     "name": "stdout",
     "output_type": "stream",
     "text": [
      "1\n",
      "2\n",
      "3\n",
      "4\n",
      "5\n",
      "6\n",
      "7\n",
      "8\n",
      "9\n",
      "10\n",
      "13\n",
      "16\n",
      "19\n",
      "22\n",
      "25\n",
      "28\n",
      "31\n",
      "34\n",
      "37\n",
      "40\n"
     ]
    }
   ],
   "source": [
    "import multiprocessing as mp\n",
    "import time\n",
    "\n",
    "def job(v, num, l):\n",
    "    l.acquire()\n",
    "    for _ in range(10):\n",
    "        time.sleep(0.1)\n",
    "        v.value += num\n",
    "        print(v.value)\n",
    "    l.release()\n",
    "\n",
    "def multicore():\n",
    "    v = mp.Value('i',0)\n",
    "    p1 = mp.Process(target = job, args=(v, 1))\n",
    "    p2 = mp.Process(target = job, args=(v, 3))\n",
    "    p1.start()\n",
    "    p2.start()\n",
    "    p1.join()\n",
    "    p2.join()\n",
    "    \n",
    "def multicore_lock():   #加锁\n",
    "    l = mp.Lock()\n",
    "    v = mp.Value('i',0)\n",
    "    p3 = mp.Process(target = job, args=(v, 1, l))\n",
    "    p4 = mp.Process(target = job, args=(v, 3, l))\n",
    "    p3.start()\n",
    "    p4.start()\n",
    "    p3.join()\n",
    "    p4.join()\n",
    "    \n",
    "#multicore()\n",
    "multicore_lock()"
   ]
  },
  {
   "cell_type": "code",
   "execution_count": null,
   "metadata": {},
   "outputs": [],
   "source": []
  }
 ],
 "metadata": {
  "kernelspec": {
   "display_name": "Python 3",
   "language": "python",
   "name": "python3"
  },
  "language_info": {
   "codemirror_mode": {
    "name": "ipython",
    "version": 3
   },
   "file_extension": ".py",
   "mimetype": "text/x-python",
   "name": "python",
   "nbconvert_exporter": "python",
   "pygments_lexer": "ipython3",
   "version": "3.6.3"
  }
 },
 "nbformat": 4,
 "nbformat_minor": 2
}
