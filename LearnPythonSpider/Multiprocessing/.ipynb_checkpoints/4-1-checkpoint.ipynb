{
 "cells": [
  {
   "cell_type": "code",
   "execution_count": 2,
   "metadata": {
    "ExecuteTime": {
     "end_time": "2019-01-15T09:28:35.646967Z",
     "start_time": "2019-01-15T09:28:35.639507Z"
    },
    "collapsed": true
   },
   "outputs": [],
   "source": [
    "import multiprocessing as mp\n",
    "import time\n",
    "from urllib.request import urlopen, urljoin\n",
    "from bs4 import BeautifulSoup\n",
    "import re\n",
    "\n",
    "base_url = \"https://morvanzhou.github.io/\""
   ]
  },
  {
   "cell_type": "markdown",
   "metadata": {},
   "source": [
    "# crawl用来爬取网页"
   ]
  },
  {
   "cell_type": "code",
   "execution_count": 3,
   "metadata": {
    "ExecuteTime": {
     "end_time": "2019-01-15T09:35:48.394999Z",
     "start_time": "2019-01-15T09:35:48.389946Z"
    },
    "collapsed": true
   },
   "outputs": [],
   "source": [
    "def crawl(url):\n",
    "    #使用urlopen打开网页\n",
    "    response = urlopen(url)\n",
    "    #返回原始的HTML页面\n",
    "    return response.read().decode()"
   ]
  },
  {
   "cell_type": "markdown",
   "metadata": {},
   "source": [
    "# parse用来解析网页，在HTML页面中找到有用的信息"
   ]
  },
  {
   "cell_type": "code",
   "execution_count": 4,
   "metadata": {
    "ExecuteTime": {
     "end_time": "2019-01-15T09:39:48.723460Z",
     "start_time": "2019-01-15T09:39:48.714699Z"
    }
   },
   "outputs": [],
   "source": [
    "def parse(html):\n",
    "    soup = BeautifulSoup(html, 'lxml')\n",
    "    urls = soup.find_all('a',{\"href\": re.compile('^/.+?/$')})\n",
    "    title = soup.find('h1').get_text().strip()\n",
    "    page_urls = set([urljoin(base_url, url['href']) for url in urls])\n",
    "    url = soup.find('meta', {'property': \"og:url\"})['content']\n",
    "    return title, page_urls, url"
   ]
  },
  {
   "cell_type": "markdown",
   "metadata": {},
   "source": [
    "# 单线程"
   ]
  },
  {
   "cell_type": "code",
   "execution_count": null,
   "metadata": {
    "ExecuteTime": {
     "end_time": "2019-01-15T09:53:38.714080Z",
     "start_time": "2019-01-15T09:53:11.661069Z"
    }
   },
   "outputs": [],
   "source": [
    "unseen = set([base_url,])#使用set功能，用来区分爬取和未爬取的网页\n",
    "seen = set()\n",
    "\n",
    "count, t1 = 1, time.time()\n",
    "\n",
    "\n",
    "if base_url != \"http://127.0.0.1:4000/\":\n",
    "    restricted_crawl = True\n",
    "else:\n",
    "    restricted_crawl = False\n",
    "    \n",
    "    \n",
    "while len(unseen) != 0:\n",
    "    if restricted_crawl and len(seen) > 20:\n",
    "        break\n",
    "        \n",
    "    print('\\nDistribute Crawling...')\n",
    "    htmls = [crawl(url) for url in unseen]\n",
    "    \n",
    "    print('\\nDistribute Parsing...')\n",
    "    results = [parse(html) for html in htmls]\n",
    "    \n",
    "    print('\\nAnalysing...')\n",
    "    seen.update(unseen)\n",
    "    unseen.clear()\n",
    "    \n",
    "    for title, page_urls, url in results:\n",
    "        print(count, title, url)\n",
    "        count += 1\n",
    "        unseen.update(page_urls - seen)\n",
    "print('Total time: %.lf s' % (time.time() - t1,))"
   ]
  },
  {
   "cell_type": "markdown",
   "metadata": {},
   "source": [
    "# 多线程"
   ]
  },
  {
   "cell_type": "code",
   "execution_count": null,
   "metadata": {
    "collapsed": true,
    "slideshow": {
     "slide_type": "-"
    }
   },
   "outputs": [],
   "source": [
    "unseen = set([base_url,])\n",
    "seen = set()\n",
    "\n",
    "pool = mp.Pool(4)  #创建进程池\n",
    "count, t1 = 1, time.time()\n",
    "while len(unseen) != 0:\n",
    "    if restricted_crawl and len(seen) > 20:\n",
    "        break\n",
    "        \n",
    "    print('\\nDistribute Crawling...')\n",
    "    crawl_jobs = [pool.apply_async(crawl, args=(url,)) for url in unseen]\n",
    "    htmls = [j.get() for j in crawl_jobs]\n",
    "    \n",
    "    print('\\nDistribute Parsing...')\n",
    "    parse_jobs = [pool.apply_async(parse, args=(html,)) for html in htmls]\n",
    "    results = [j.get() for j in parse_jobs]\n",
    "    \n",
    "    print('\\nAnalysing...')\n",
    "    seen.update(unseen)\n",
    "    unseen.clear()\n",
    "    \n",
    "    for title, page_urls, url in results:\n",
    "        print(count, title, url)\n",
    "        count += 1\n",
    "        unseen.update(page_urls - seen)\n",
    "print('Total time: %.lf s' % (time.time() - t1,))"
   ]
  },
  {
   "cell_type": "code",
   "execution_count": null,
   "metadata": {},
   "outputs": [],
   "source": []
  }
 ],
 "metadata": {
  "kernelspec": {
   "display_name": "Python 3",
   "language": "python",
   "name": "python3"
  },
  "language_info": {
   "codemirror_mode": {
    "name": "ipython",
    "version": 3
   },
   "file_extension": ".py",
   "mimetype": "text/x-python",
   "name": "python",
   "nbconvert_exporter": "python",
   "pygments_lexer": "ipython3",
   "version": "3.6.3"
  },
  "toc": {
   "base_numbering": 1,
   "nav_menu": {},
   "number_sections": true,
   "sideBar": true,
   "skip_h1_title": false,
   "title_cell": "Table of Contents",
   "title_sidebar": "Contents",
   "toc_cell": false,
   "toc_position": {},
   "toc_section_display": true,
   "toc_window_display": false
  }
 },
 "nbformat": 4,
 "nbformat_minor": 2
}
