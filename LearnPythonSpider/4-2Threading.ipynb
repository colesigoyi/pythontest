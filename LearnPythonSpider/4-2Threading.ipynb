{
 "cells": [
  {
   "cell_type": "code",
   "execution_count": 8,
   "metadata": {},
   "outputs": [
    {
     "name": "stdout",
     "output_type": "stream",
     "text": [
      "499667166000\n"
     ]
    }
   ],
   "source": [
    "import multiprocessing as mp\n",
    "import threading as td\n",
    "\n",
    "def job(q):\n",
    "    res = 0\n",
    "    for i in range(1000):\n",
    "        res += i + i**2 + i**3\n",
    "    # queue\n",
    "    q.put(res)\n",
    "\n",
    "#创建进程\n",
    "q = mp.Queue()\n",
    "p1 = mp.Process(target = job, args=(q,))#加个逗号表示可以迭代\n",
    "p2 = mp.Process(target = job, args=(q,))\n",
    "p1.start()\n",
    "p2.start()\n",
    "p1.join()\n",
    "p2.join()\n",
    "\n",
    "res1 = q.get()\n",
    "res2 = q.get()\n",
    "\n",
    "print(res1 + res2)"
   ]
  },
  {
   "cell_type": "code",
   "execution_count": 9,
   "metadata": {},
   "outputs": [
    {
     "name": "stdout",
     "output_type": "stream",
     "text": [
      "499667166000\n"
     ]
    }
   ],
   "source": [
    "def job2(q):\n",
    "    res = 0\n",
    "    for i in range(1000):\n",
    "        res += i + i**2 + i**3\n",
    "    # queue\n",
    "    q.put(res)\n",
    "\n",
    "#创建线程\n",
    "q = mp.Queue()\n",
    "t1 = td.Thread(target = job2, args=(q,))\n",
    "t2 = td.Thread(target = job2, args=(q,))\n",
    "t1.start()\n",
    "t2.start()\n",
    "t1.join()\n",
    "t2.join()\n",
    "\n",
    "res3 = q.get()\n",
    "res4 = q.get()\n",
    "\n",
    "print(res3 + res4)"
   ]
  },
  {
   "cell_type": "code",
   "execution_count": 15,
   "metadata": {},
   "outputs": [
    {
     "name": "stdout",
     "output_type": "stream",
     "text": [
      "normal 4999999666666716666660000000\n",
      "normal time: 14.23680567741394\n",
      "multcore 4999999666666716666660000000\n",
      "multicore time: 7.24088716506958\n",
      "multthread: 4999999666666716666660000000\n",
      "multithread time: 13.887895107269287\n"
     ]
    }
   ],
   "source": [
    "import multiprocessing as mp\n",
    "import threading as td\n",
    "import time\n",
    "\n",
    "def job(q):\n",
    "    res = 0\n",
    "    for i in range(10000000):\n",
    "        res += i + i**2 + i**3\n",
    "    # queue\n",
    "    q.put(res)\n",
    "\n",
    "def normal():#单线程\n",
    "    res = 0\n",
    "    for j in range(2):\n",
    "        for i in range(10000000):\n",
    "            res += i + i**2 + i**3\n",
    "    print('normal', res)\n",
    "       \n",
    "def multicore():#多进程\n",
    "    q = mp.Queue()\n",
    "    p1 = mp.Process(target = job, args=(q,))#加个逗号表示可以迭代\n",
    "    p2 = mp.Process(target = job, args=(q,))\n",
    "    p1.start()\n",
    "    p2.start()\n",
    "    p1.join()\n",
    "    p2.join()\n",
    "    res1 = q.get()\n",
    "    res2 = q.get()\n",
    "    print('multcore', res1 + res2)\n",
    "\n",
    "def multithread():#多线程\n",
    "    q = mp.Queue()\n",
    "    t1 = td.Thread(target = job, args=(q,))\n",
    "    t2 = td.Thread(target = job, args=(q,))\n",
    "    t1.start()\n",
    "    t2.start()\n",
    "    t1.join()\n",
    "    t2.join()\n",
    "    res3 = q.get()\n",
    "    res4 = q.get()\n",
    "    print('multthread:', res3 + res4)\n",
    "\n",
    "st = time.time()\n",
    "normal()\n",
    "st1 = time.time()\n",
    "print('normal time:', st1-st)\n",
    "multicore()\n",
    "st2 = time.time()\n",
    "print('multicore time:', st2-st1)\n",
    "multithread()\n",
    "print('multithread time:', time.time()-st2)"
   ]
  },
  {
   "cell_type": "code",
   "execution_count": null,
   "metadata": {},
   "outputs": [],
   "source": []
  }
 ],
 "metadata": {
  "kernelspec": {
   "display_name": "Python 3",
   "language": "python",
   "name": "python3"
  },
  "language_info": {
   "codemirror_mode": {
    "name": "ipython",
    "version": 3
   },
   "file_extension": ".py",
   "mimetype": "text/x-python",
   "name": "python",
   "nbconvert_exporter": "python",
   "pygments_lexer": "ipython3",
   "version": "3.6.3"
  }
 },
 "nbformat": 4,
 "nbformat_minor": 2
}
