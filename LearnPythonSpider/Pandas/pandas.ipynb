{
 "cells": [
  {
   "cell_type": "markdown",
   "metadata": {},
   "source": [
    "# Pandas练习"
   ]
  },
  {
   "cell_type": "code",
   "execution_count": 3,
   "metadata": {
    "ExecuteTime": {
     "end_time": "2019-01-20T15:45:27.666028Z",
     "start_time": "2019-01-20T15:45:27.663124Z"
    },
    "collapsed": true
   },
   "outputs": [],
   "source": [
    "import pandas as pd\n",
    "import numpy as np"
   ]
  },
  {
   "cell_type": "code",
   "execution_count": 4,
   "metadata": {
    "ExecuteTime": {
     "end_time": "2019-01-20T15:45:29.164877Z",
     "start_time": "2019-01-20T15:45:29.156447Z"
    }
   },
   "outputs": [
    {
     "name": "stdout",
     "output_type": "stream",
     "text": [
      "0     1.0\n",
      "1     3.0\n",
      "2     6.0\n",
      "3     NaN\n",
      "4    44.0\n",
      "5     1.0\n",
      "dtype: float64\n"
     ]
    }
   ],
   "source": [
    "s = pd.Series([1,3,6,np.nan, 44,1])\n",
    "print(s)"
   ]
  },
  {
   "cell_type": "code",
   "execution_count": 5,
   "metadata": {
    "ExecuteTime": {
     "end_time": "2019-01-20T15:46:26.817910Z",
     "start_time": "2019-01-20T15:46:26.807528Z"
    }
   },
   "outputs": [
    {
     "name": "stdout",
     "output_type": "stream",
     "text": [
      "DatetimeIndex(['2019-01-20', '2019-01-21', '2019-01-22', '2019-01-23',\n",
      "               '2019-01-24', '2019-01-25'],\n",
      "              dtype='datetime64[ns]', freq='D')\n"
     ]
    }
   ],
   "source": [
    "dates = pd.date_range('20190120',periods=6)\n",
    "print(dates)"
   ]
  },
  {
   "cell_type": "code",
   "execution_count": 8,
   "metadata": {
    "ExecuteTime": {
     "end_time": "2019-01-20T15:48:46.682816Z",
     "start_time": "2019-01-20T15:48:46.672968Z"
    }
   },
   "outputs": [
    {
     "name": "stdout",
     "output_type": "stream",
     "text": [
      "                   a         b         c         d\n",
      "2019-01-20 -1.202779  1.072761 -0.410530 -0.142339\n",
      "2019-01-21 -0.700017 -0.929527 -0.985211  2.253128\n",
      "2019-01-22  0.566838 -1.250769  1.356871 -2.287395\n",
      "2019-01-23 -0.133220  0.751120  0.782387  2.380719\n",
      "2019-01-24 -0.206006 -0.849692  0.495433  0.296366\n",
      "2019-01-25  1.791859 -2.234250 -0.370983 -2.345570\n"
     ]
    }
   ],
   "source": [
    "df = pd.DataFrame(np.random.randn(6,4),index=dates,\n",
    "                  columns=['a','b','c','d'])\n",
    "print(df)"
   ]
  },
  {
   "cell_type": "code",
   "execution_count": 19,
   "metadata": {
    "ExecuteTime": {
     "end_time": "2019-01-20T15:58:18.986322Z",
     "start_time": "2019-01-20T15:58:18.974037Z"
    }
   },
   "outputs": [
    {
     "name": "stdout",
     "output_type": "stream",
     "text": [
      "     A          B    C  D      E    F\n",
      "0  1.0 2013-01-02  1.0  3   test  foo\n",
      "1  1.0 2013-01-02  1.0  3  train  foo\n",
      "2  1.0 2013-01-02  1.0  3   test  foo\n",
      "3  1.0 2013-01-02  1.0  3  train  foo\n"
     ]
    }
   ],
   "source": [
    "df1 = pd.DataFrame({'A' : 1.,\n",
    "                    'B' : pd.Timestamp('20130102'),\n",
    "                    'C' : pd.Series(1,index=list(range(4)),dtype='float32'),\n",
    "                    'D' : np.array([3] * 4,dtype='int32'),\n",
    "                    'E' : pd.Categorical([\"test\",\"train\",\"test\",\"train\"]),\n",
    "                    'F' : 'foo'})\n",
    "print(df1)\n"
   ]
  },
  {
   "cell_type": "code",
   "execution_count": 20,
   "metadata": {
    "ExecuteTime": {
     "end_time": "2019-01-20T15:58:29.748364Z",
     "start_time": "2019-01-20T15:58:29.743723Z"
    }
   },
   "outputs": [
    {
     "name": "stdout",
     "output_type": "stream",
     "text": [
      "A           float64\n",
      "B    datetime64[ns]\n",
      "C           float32\n",
      "D             int32\n",
      "E          category\n",
      "F            object\n",
      "dtype: object\n"
     ]
    }
   ],
   "source": [
    "print(df1.dtypes)"
   ]
  },
  {
   "cell_type": "code",
   "execution_count": 26,
   "metadata": {
    "ExecuteTime": {
     "end_time": "2019-01-20T15:59:19.473029Z",
     "start_time": "2019-01-20T15:59:19.468578Z"
    }
   },
   "outputs": [
    {
     "name": "stdout",
     "output_type": "stream",
     "text": [
      "Int64Index([0, 1, 2, 3], dtype='int64')\n"
     ]
    }
   ],
   "source": [
    "print(df1.index)"
   ]
  },
  {
   "cell_type": "code",
   "execution_count": 27,
   "metadata": {
    "ExecuteTime": {
     "end_time": "2019-01-20T15:59:21.748413Z",
     "start_time": "2019-01-20T15:59:21.743908Z"
    }
   },
   "outputs": [
    {
     "name": "stdout",
     "output_type": "stream",
     "text": [
      "Index(['A', 'B', 'C', 'D', 'E', 'F'], dtype='object')\n"
     ]
    }
   ],
   "source": [
    "print(df1.columns)"
   ]
  },
  {
   "cell_type": "code",
   "execution_count": 28,
   "metadata": {
    "ExecuteTime": {
     "end_time": "2019-01-20T15:59:23.241774Z",
     "start_time": "2019-01-20T15:59:23.237460Z"
    }
   },
   "outputs": [
    {
     "name": "stdout",
     "output_type": "stream",
     "text": [
      "[[1.0 Timestamp('2013-01-02 00:00:00') 1.0 3 'test' 'foo']\n",
      " [1.0 Timestamp('2013-01-02 00:00:00') 1.0 3 'train' 'foo']\n",
      " [1.0 Timestamp('2013-01-02 00:00:00') 1.0 3 'test' 'foo']\n",
      " [1.0 Timestamp('2013-01-02 00:00:00') 1.0 3 'train' 'foo']]\n"
     ]
    }
   ],
   "source": [
    "print(df1.values)"
   ]
  },
  {
   "cell_type": "code",
   "execution_count": 29,
   "metadata": {
    "ExecuteTime": {
     "end_time": "2019-01-20T15:59:26.692281Z",
     "start_time": "2019-01-20T15:59:26.677434Z"
    }
   },
   "outputs": [
    {
     "name": "stdout",
     "output_type": "stream",
     "text": [
      "         A    C    D\n",
      "count  4.0  4.0  4.0\n",
      "mean   1.0  1.0  3.0\n",
      "std    0.0  0.0  0.0\n",
      "min    1.0  1.0  3.0\n",
      "25%    1.0  1.0  3.0\n",
      "50%    1.0  1.0  3.0\n",
      "75%    1.0  1.0  3.0\n",
      "max    1.0  1.0  3.0\n"
     ]
    }
   ],
   "source": [
    "print(df1.describe())"
   ]
  },
  {
   "cell_type": "code",
   "execution_count": 30,
   "metadata": {
    "ExecuteTime": {
     "end_time": "2019-01-20T15:59:28.915006Z",
     "start_time": "2019-01-20T15:59:28.908290Z"
    }
   },
   "outputs": [
    {
     "name": "stdout",
     "output_type": "stream",
     "text": [
      "                     0                    1                    2  \\\n",
      "A                    1                    1                    1   \n",
      "B  2013-01-02 00:00:00  2013-01-02 00:00:00  2013-01-02 00:00:00   \n",
      "C                    1                    1                    1   \n",
      "D                    3                    3                    3   \n",
      "E                 test                train                 test   \n",
      "F                  foo                  foo                  foo   \n",
      "\n",
      "                     3  \n",
      "A                    1  \n",
      "B  2013-01-02 00:00:00  \n",
      "C                    1  \n",
      "D                    3  \n",
      "E                train  \n",
      "F                  foo  \n"
     ]
    }
   ],
   "source": [
    "print(df1.T)"
   ]
  },
  {
   "cell_type": "code",
   "execution_count": 33,
   "metadata": {
    "ExecuteTime": {
     "end_time": "2019-01-20T16:01:00.816511Z",
     "start_time": "2019-01-20T16:01:00.806564Z"
    }
   },
   "outputs": [
    {
     "name": "stdout",
     "output_type": "stream",
     "text": [
      "     F      E  D    C          B    A\n",
      "0  foo   test  3  1.0 2013-01-02  1.0\n",
      "1  foo  train  3  1.0 2013-01-02  1.0\n",
      "2  foo   test  3  1.0 2013-01-02  1.0\n",
      "3  foo  train  3  1.0 2013-01-02  1.0\n"
     ]
    }
   ],
   "source": [
    "print(df1.sort_index(axis = 1, ascending=False))"
   ]
  },
  {
   "cell_type": "code",
   "execution_count": 34,
   "metadata": {
    "ExecuteTime": {
     "end_time": "2019-01-20T16:01:24.824071Z",
     "start_time": "2019-01-20T16:01:24.814681Z"
    }
   },
   "outputs": [
    {
     "name": "stdout",
     "output_type": "stream",
     "text": [
      "     A          B    C  D      E    F\n",
      "3  1.0 2013-01-02  1.0  3  train  foo\n",
      "2  1.0 2013-01-02  1.0  3   test  foo\n",
      "1  1.0 2013-01-02  1.0  3  train  foo\n",
      "0  1.0 2013-01-02  1.0  3   test  foo\n"
     ]
    }
   ],
   "source": [
    "print(df1.sort_index(axis = 0, ascending=False))"
   ]
  },
  {
   "cell_type": "code",
   "execution_count": 35,
   "metadata": {
    "ExecuteTime": {
     "end_time": "2019-01-20T16:02:22.669398Z",
     "start_time": "2019-01-20T16:02:22.661783Z"
    }
   },
   "outputs": [
    {
     "name": "stdout",
     "output_type": "stream",
     "text": [
      "     A          B    C  D      E    F\n",
      "0  1.0 2013-01-02  1.0  3   test  foo\n",
      "2  1.0 2013-01-02  1.0  3   test  foo\n",
      "1  1.0 2013-01-02  1.0  3  train  foo\n",
      "3  1.0 2013-01-02  1.0  3  train  foo\n"
     ]
    }
   ],
   "source": [
    "print(df1.sort_values(by='E'))"
   ]
  },
  {
   "cell_type": "markdown",
   "metadata": {},
   "source": [
    "# pandas数据选择"
   ]
  },
  {
   "cell_type": "code",
   "execution_count": 95,
   "metadata": {
    "ExecuteTime": {
     "end_time": "2019-01-20T16:37:43.391585Z",
     "start_time": "2019-01-20T16:37:43.382283Z"
    }
   },
   "outputs": [
    {
     "name": "stdout",
     "output_type": "stream",
     "text": [
      "             A   B   C   D\n",
      "2019-01-21   0   1   2   3\n",
      "2019-01-22   4   5   6   7\n",
      "2019-01-23   8   9  10  11\n",
      "2019-01-24  12  13  14  15\n",
      "2019-01-25  16  17  18  19\n",
      "2019-01-26  20  21  22  23\n"
     ]
    }
   ],
   "source": [
    "dates = pd.date_range('20190121',periods=6)\n",
    "df = pd.DataFrame(np.arange(24).reshape((6,4)),index=dates,\n",
    "                  columns=['A','B','C','D'])\n",
    "print(df)"
   ]
  },
  {
   "cell_type": "code",
   "execution_count": 48,
   "metadata": {
    "ExecuteTime": {
     "end_time": "2019-01-20T16:11:15.275069Z",
     "start_time": "2019-01-20T16:11:15.269644Z"
    }
   },
   "outputs": [
    {
     "name": "stdout",
     "output_type": "stream",
     "text": [
      "2019-01-21     0\n",
      "2019-01-22     4\n",
      "2019-01-23     8\n",
      "2019-01-24    12\n",
      "2019-01-25    16\n",
      "2019-01-26    20\n",
      "Freq: D, Name: A, dtype: int64 2019-01-21     0\n",
      "2019-01-22     4\n",
      "2019-01-23     8\n",
      "2019-01-24    12\n",
      "2019-01-25    16\n",
      "2019-01-26    20\n",
      "Freq: D, Name: A, dtype: int64\n"
     ]
    }
   ],
   "source": [
    "print(df['A'],df.A)"
   ]
  },
  {
   "cell_type": "code",
   "execution_count": 44,
   "metadata": {
    "ExecuteTime": {
     "end_time": "2019-01-20T16:09:36.854610Z",
     "start_time": "2019-01-20T16:09:36.846067Z"
    }
   },
   "outputs": [
    {
     "name": "stdout",
     "output_type": "stream",
     "text": [
      "            A  B   C   D\n",
      "2019-01-21  0  1   2   3\n",
      "2019-01-22  4  5   6   7\n",
      "2019-01-23  8  9  10  11             A  B   C   D\n",
      "2019-01-21  0  1   2   3\n",
      "2019-01-22  4  5   6   7\n",
      "2019-01-23  8  9  10  11\n"
     ]
    }
   ],
   "source": [
    "print(df[0:3],df['20190121':'20190123'])"
   ]
  },
  {
   "cell_type": "markdown",
   "metadata": {
    "ExecuteTime": {
     "end_time": "2019-01-20T16:17:56.777564Z",
     "start_time": "2019-01-20T16:17:56.774566Z"
    }
   },
   "source": [
    "# loc"
   ]
  },
  {
   "cell_type": "code",
   "execution_count": 45,
   "metadata": {
    "ExecuteTime": {
     "end_time": "2019-01-20T16:10:44.228745Z",
     "start_time": "2019-01-20T16:10:44.222317Z"
    }
   },
   "outputs": [
    {
     "name": "stdout",
     "output_type": "stream",
     "text": [
      "A    0\n",
      "B    1\n",
      "C    2\n",
      "D    3\n",
      "Name: 2019-01-21 00:00:00, dtype: int64\n"
     ]
    }
   ],
   "source": [
    "print(df.loc['20190121'])"
   ]
  },
  {
   "cell_type": "code",
   "execution_count": 49,
   "metadata": {
    "ExecuteTime": {
     "end_time": "2019-01-20T16:12:13.495062Z",
     "start_time": "2019-01-20T16:12:13.487109Z"
    }
   },
   "outputs": [
    {
     "name": "stdout",
     "output_type": "stream",
     "text": [
      "             A   B\n",
      "2019-01-21   0   1\n",
      "2019-01-22   4   5\n",
      "2019-01-23   8   9\n",
      "2019-01-24  12  13\n",
      "2019-01-25  16  17\n",
      "2019-01-26  20  21\n"
     ]
    }
   ],
   "source": [
    "print(df.loc[:,['A','B']])"
   ]
  },
  {
   "cell_type": "code",
   "execution_count": 50,
   "metadata": {
    "ExecuteTime": {
     "end_time": "2019-01-20T16:12:35.102855Z",
     "start_time": "2019-01-20T16:12:35.095277Z"
    }
   },
   "outputs": [
    {
     "name": "stdout",
     "output_type": "stream",
     "text": [
      "A    4\n",
      "B    5\n",
      "Name: 2019-01-22 00:00:00, dtype: int64\n"
     ]
    }
   ],
   "source": [
    "print(df.loc['20190122',['A','B']])"
   ]
  },
  {
   "cell_type": "markdown",
   "metadata": {},
   "source": [
    "# iloc"
   ]
  },
  {
   "cell_type": "code",
   "execution_count": 51,
   "metadata": {
    "ExecuteTime": {
     "end_time": "2019-01-20T16:15:57.682724Z",
     "start_time": "2019-01-20T16:15:57.677337Z"
    },
    "scrolled": true
   },
   "outputs": [
    {
     "name": "stdout",
     "output_type": "stream",
     "text": [
      "A    12\n",
      "B    13\n",
      "C    14\n",
      "D    15\n",
      "Name: 2019-01-24 00:00:00, dtype: int64\n"
     ]
    }
   ],
   "source": [
    "print(df.iloc[3])"
   ]
  },
  {
   "cell_type": "code",
   "execution_count": 52,
   "metadata": {
    "ExecuteTime": {
     "end_time": "2019-01-20T16:16:22.747917Z",
     "start_time": "2019-01-20T16:16:22.741022Z"
    }
   },
   "outputs": [
    {
     "name": "stdout",
     "output_type": "stream",
     "text": [
      "             B   C\n",
      "2019-01-24  13  14\n",
      "2019-01-25  17  18\n"
     ]
    }
   ],
   "source": [
    "print(df.iloc[3:5,1:3])#根据位置选择"
   ]
  },
  {
   "cell_type": "code",
   "execution_count": 54,
   "metadata": {
    "ExecuteTime": {
     "end_time": "2019-01-20T16:17:12.043154Z",
     "start_time": "2019-01-20T16:17:12.036038Z"
    }
   },
   "outputs": [
    {
     "name": "stdout",
     "output_type": "stream",
     "text": [
      "             B   C\n",
      "2019-01-22   5   6\n",
      "2019-01-24  13  14\n",
      "2019-01-26  21  22\n"
     ]
    }
   ],
   "source": [
    "print(df.iloc[[1,3,5],1:3])"
   ]
  },
  {
   "cell_type": "markdown",
   "metadata": {},
   "source": [
    "# ix"
   ]
  },
  {
   "cell_type": "code",
   "execution_count": 56,
   "metadata": {
    "ExecuteTime": {
     "end_time": "2019-01-20T16:18:46.619671Z",
     "start_time": "2019-01-20T16:18:46.611171Z"
    }
   },
   "outputs": [
    {
     "name": "stdout",
     "output_type": "stream",
     "text": [
      "            A   C\n",
      "2019-01-21  0   2\n",
      "2019-01-22  4   6\n",
      "2019-01-23  8  10\n"
     ]
    },
    {
     "name": "stderr",
     "output_type": "stream",
     "text": [
      "/Users/taoxuefeng/anaconda3/lib/python3.6/site-packages/ipykernel_launcher.py:1: DeprecationWarning: \n",
      ".ix is deprecated. Please use\n",
      ".loc for label based indexing or\n",
      ".iloc for positional indexing\n",
      "\n",
      "See the documentation here:\n",
      "http://pandas.pydata.org/pandas-docs/stable/indexing.html#ix-indexer-is-deprecated\n",
      "  \"\"\"Entry point for launching an IPython kernel.\n"
     ]
    }
   ],
   "source": [
    "print(df.ix[:3,['A','C']])"
   ]
  },
  {
   "cell_type": "code",
   "execution_count": 58,
   "metadata": {
    "ExecuteTime": {
     "end_time": "2019-01-20T16:21:27.292192Z",
     "start_time": "2019-01-20T16:21:27.285717Z"
    }
   },
   "outputs": [
    {
     "name": "stdout",
     "output_type": "stream",
     "text": [
      "             A   B   C   D\n",
      "2019-01-24  12  13  14  15\n",
      "2019-01-25  16  17  18  19\n",
      "2019-01-26  20  21  22  23\n"
     ]
    }
   ],
   "source": [
    "print(df[df.A > 8])#便于筛选，选择A列中大于8的，返回所有列结果"
   ]
  },
  {
   "cell_type": "markdown",
   "metadata": {},
   "source": [
    "# 设置值"
   ]
  },
  {
   "cell_type": "code",
   "execution_count": 60,
   "metadata": {
    "ExecuteTime": {
     "end_time": "2019-01-20T16:22:59.887376Z",
     "start_time": "2019-01-20T16:22:59.880529Z"
    }
   },
   "outputs": [
    {
     "name": "stdout",
     "output_type": "stream",
     "text": [
      "             A   B     C   D\n",
      "2019-01-21   0   1     2   3\n",
      "2019-01-22   4   5     6   7\n",
      "2019-01-23   8   9  1111  11\n",
      "2019-01-24  12  13    14  15\n",
      "2019-01-25  16  17    18  19\n",
      "2019-01-26  20  21    22  23\n"
     ]
    }
   ],
   "source": [
    "df.iloc[2,2] = 1111\n",
    "print(df)"
   ]
  },
  {
   "cell_type": "code",
   "execution_count": 61,
   "metadata": {
    "ExecuteTime": {
     "end_time": "2019-01-20T16:23:59.022049Z",
     "start_time": "2019-01-20T16:23:59.014823Z"
    }
   },
   "outputs": [
    {
     "name": "stdout",
     "output_type": "stream",
     "text": [
      "             A     B     C   D\n",
      "2019-01-21   0     1     2   3\n",
      "2019-01-22   4  2222     6   7\n",
      "2019-01-23   8     9  1111  11\n",
      "2019-01-24  12    13    14  15\n",
      "2019-01-25  16    17    18  19\n",
      "2019-01-26  20    21    22  23\n"
     ]
    }
   ],
   "source": [
    "df.loc['20190122','B'] = 2222\n",
    "print(df)"
   ]
  },
  {
   "cell_type": "code",
   "execution_count": 65,
   "metadata": {
    "ExecuteTime": {
     "end_time": "2019-01-20T16:25:12.577987Z",
     "start_time": "2019-01-20T16:25:12.571700Z"
    }
   },
   "outputs": [
    {
     "name": "stdout",
     "output_type": "stream",
     "text": [
      "            A  B  C  D\n",
      "2019-01-21  0  1  2  3\n",
      "2019-01-22  4  5  6  7\n",
      "2019-01-23  0  0  0  0\n",
      "2019-01-24  0  0  0  0\n",
      "2019-01-25  0  0  0  0\n",
      "2019-01-26  0  0  0  0\n"
     ]
    }
   ],
   "source": [
    "df[df.A > 4] = 0\n",
    "print(df)"
   ]
  },
  {
   "cell_type": "code",
   "execution_count": 67,
   "metadata": {
    "ExecuteTime": {
     "end_time": "2019-01-20T16:25:54.007845Z",
     "start_time": "2019-01-20T16:25:53.999789Z"
    }
   },
   "outputs": [
    {
     "name": "stdout",
     "output_type": "stream",
     "text": [
      "            A   B   C   D\n",
      "2019-01-21  0   1   2   3\n",
      "2019-01-22  4   5   6   7\n",
      "2019-01-23  0   9  10  11\n",
      "2019-01-24  0  13  14  15\n",
      "2019-01-25  0  17  18  19\n",
      "2019-01-26  0  21  22  23\n"
     ]
    }
   ],
   "source": [
    "df.A[df.A > 4] = 0\n",
    "print(df)"
   ]
  },
  {
   "cell_type": "code",
   "execution_count": 69,
   "metadata": {
    "ExecuteTime": {
     "end_time": "2019-01-20T16:26:33.126035Z",
     "start_time": "2019-01-20T16:26:33.117962Z"
    }
   },
   "outputs": [
    {
     "name": "stdout",
     "output_type": "stream",
     "text": [
      "             A  B   C   D\n",
      "2019-01-21   0  1   2   3\n",
      "2019-01-22   4  5   6   7\n",
      "2019-01-23   8  0  10  11\n",
      "2019-01-24  12  0  14  15\n",
      "2019-01-25  16  0  18  19\n",
      "2019-01-26  20  0  22  23\n"
     ]
    }
   ],
   "source": [
    "df.B[df.A > 4] = 0\n",
    "print(df)"
   ]
  },
  {
   "cell_type": "code",
   "execution_count": 71,
   "metadata": {
    "ExecuteTime": {
     "end_time": "2019-01-20T16:27:08.588283Z",
     "start_time": "2019-01-20T16:27:08.580134Z"
    }
   },
   "outputs": [
    {
     "name": "stdout",
     "output_type": "stream",
     "text": [
      "             A   B   C   D   F\n",
      "2019-01-21   0   1   2   3 NaN\n",
      "2019-01-22   4   5   6   7 NaN\n",
      "2019-01-23   8   9  10  11 NaN\n",
      "2019-01-24  12  13  14  15 NaN\n",
      "2019-01-25  16  17  18  19 NaN\n",
      "2019-01-26  20  21  22  23 NaN\n"
     ]
    }
   ],
   "source": [
    "df['F'] = np.nan\n",
    "print(df)"
   ]
  },
  {
   "cell_type": "code",
   "execution_count": 72,
   "metadata": {
    "ExecuteTime": {
     "end_time": "2019-01-20T16:29:16.216318Z",
     "start_time": "2019-01-20T16:29:16.207503Z"
    }
   },
   "outputs": [
    {
     "name": "stdout",
     "output_type": "stream",
     "text": [
      "             A   B   C   D   F  E\n",
      "2019-01-21   0   1   2   3 NaN  1\n",
      "2019-01-22   4   5   6   7 NaN  2\n",
      "2019-01-23   8   9  10  11 NaN  3\n",
      "2019-01-24  12  13  14  15 NaN  4\n",
      "2019-01-25  16  17  18  19 NaN  5\n",
      "2019-01-26  20  21  22  23 NaN  6\n"
     ]
    }
   ],
   "source": [
    "df['E'] = pd.Series([1,2,3,4,5,6], \n",
    "                    index=pd.date_range('20190121',periods=6))\n",
    "print(df)"
   ]
  },
  {
   "cell_type": "code",
   "execution_count": 79,
   "metadata": {
    "ExecuteTime": {
     "end_time": "2019-01-20T16:31:01.858490Z",
     "start_time": "2019-01-20T16:31:01.849687Z"
    }
   },
   "outputs": [
    {
     "name": "stdout",
     "output_type": "stream",
     "text": [
      "             A   B   C   D   F  E\n",
      "2019-01-21   0   1   2   3 NaN  1\n",
      "2019-01-22   4   5   6   7 NaN  2\n",
      "2019-01-23   8   9  10  11 NaN  3\n",
      "2019-01-24  12  13  14  15 NaN  4\n",
      "2019-01-25  16  17  18  19 NaN  5\n",
      "2019-01-26  20  21  22  23 NaN  6\n"
     ]
    }
   ],
   "source": [
    "df['E'] = pd.Series([1,2,3,4,5,6], \n",
    "                    index=pd.date_range('20190121',periods=6))\n",
    "print(df)"
   ]
  },
  {
   "cell_type": "code",
   "execution_count": 96,
   "metadata": {
    "ExecuteTime": {
     "end_time": "2019-01-20T16:37:48.507853Z",
     "start_time": "2019-01-20T16:37:48.496137Z"
    }
   },
   "outputs": [
    {
     "name": "stdout",
     "output_type": "stream",
     "text": [
      "             A     B     C   D\n",
      "2019-01-21   0   NaN   2.0   3\n",
      "2019-01-22   4   5.0   NaN   7\n",
      "2019-01-23   8   9.0  10.0  11\n",
      "2019-01-24  12  13.0  14.0  15\n",
      "2019-01-25  16  17.0  18.0  19\n",
      "2019-01-26  20  21.0  22.0  23\n"
     ]
    }
   ],
   "source": [
    "df.iloc[0,1] = np.nan #假设丢失两个数据\n",
    "df.iloc[1,2] = np.nan\n",
    "print(df)"
   ]
  },
  {
   "cell_type": "code",
   "execution_count": 84,
   "metadata": {
    "ExecuteTime": {
     "end_time": "2019-01-20T16:33:47.003282Z",
     "start_time": "2019-01-20T16:33:46.994275Z"
    }
   },
   "outputs": [
    {
     "name": "stdout",
     "output_type": "stream",
     "text": [
      "             A     B     C   D\n",
      "2019-01-23   8   9.0  10.0  11\n",
      "2019-01-24  12  13.0  14.0  15\n",
      "2019-01-25  16  17.0  18.0  19\n",
      "2019-01-26  20  21.0  22.0  23\n"
     ]
    }
   ],
   "source": [
    "print(df.dropna(axis=0, how='any')) #axis=0丢掉行  #how={'any','all'}"
   ]
  },
  {
   "cell_type": "code",
   "execution_count": 88,
   "metadata": {
    "ExecuteTime": {
     "end_time": "2019-01-20T16:34:46.201299Z",
     "start_time": "2019-01-20T16:34:46.193676Z"
    }
   },
   "outputs": [
    {
     "name": "stdout",
     "output_type": "stream",
     "text": [
      "             A   D\n",
      "2019-01-21   0   3\n",
      "2019-01-22   4   7\n",
      "2019-01-23   8  11\n",
      "2019-01-24  12  15\n",
      "2019-01-25  16  19\n",
      "2019-01-26  20  23\n"
     ]
    }
   ],
   "source": [
    "print(df.dropna(axis=1, how='any')) #axis=1丢掉列  \n",
    "#how={'any','all'} any：只要存在就删除，all：全部为NaN才删除"
   ]
  },
  {
   "cell_type": "code",
   "execution_count": 91,
   "metadata": {
    "ExecuteTime": {
     "end_time": "2019-01-20T16:36:02.643250Z",
     "start_time": "2019-01-20T16:36:02.635388Z"
    }
   },
   "outputs": [
    {
     "name": "stdout",
     "output_type": "stream",
     "text": [
      "             A     B     C   D\n",
      "2019-01-21   0   NaN   2.0   3\n",
      "2019-01-22   4   5.0   NaN   7\n",
      "2019-01-23   8   9.0  10.0  11\n",
      "2019-01-24  12  13.0  14.0  15\n",
      "2019-01-25  16  17.0  18.0  19\n",
      "2019-01-26  20  21.0  22.0  23\n"
     ]
    }
   ],
   "source": [
    "print(df.dropna(axis=1, how='all')) #axis=1丢掉列  "
   ]
  },
  {
   "cell_type": "code",
   "execution_count": 94,
   "metadata": {
    "ExecuteTime": {
     "end_time": "2019-01-20T16:37:32.480522Z",
     "start_time": "2019-01-20T16:37:32.473841Z"
    }
   },
   "outputs": [
    {
     "name": "stdout",
     "output_type": "stream",
     "text": [
      "             A     B     C   D\n",
      "2019-01-21   0   0.0   2.0   3\n",
      "2019-01-22   4   5.0   0.0   7\n",
      "2019-01-23   8   9.0  10.0  11\n",
      "2019-01-24  12  13.0  14.0  15\n",
      "2019-01-25  16  17.0  18.0  19\n",
      "2019-01-26  20  21.0  22.0  23\n"
     ]
    }
   ],
   "source": [
    "print(df.fillna(value=0)) #填入数字"
   ]
  },
  {
   "cell_type": "code",
   "execution_count": 98,
   "metadata": {
    "ExecuteTime": {
     "end_time": "2019-01-20T16:38:16.789171Z",
     "start_time": "2019-01-20T16:38:16.781766Z"
    }
   },
   "outputs": [
    {
     "name": "stdout",
     "output_type": "stream",
     "text": [
      "                A      B      C      D\n",
      "2019-01-21  False   True  False  False\n",
      "2019-01-22  False  False   True  False\n",
      "2019-01-23  False  False  False  False\n",
      "2019-01-24  False  False  False  False\n",
      "2019-01-25  False  False  False  False\n",
      "2019-01-26  False  False  False  False\n"
     ]
    }
   ],
   "source": [
    "print(df.isnull()) #查看NaN值"
   ]
  },
  {
   "cell_type": "code",
   "execution_count": 99,
   "metadata": {
    "ExecuteTime": {
     "end_time": "2019-01-20T16:39:34.313287Z",
     "start_time": "2019-01-20T16:39:34.307925Z"
    }
   },
   "outputs": [
    {
     "name": "stdout",
     "output_type": "stream",
     "text": [
      "True\n"
     ]
    }
   ],
   "source": [
    "print(np.any(df.isnull()) == True) #查看NaN值,丢失后为true，若有丢失，返回true"
   ]
  }
 ],
 "metadata": {
  "kernelspec": {
   "display_name": "Python 3",
   "language": "python",
   "name": "python3"
  },
  "language_info": {
   "codemirror_mode": {
    "name": "ipython",
    "version": 3
   },
   "file_extension": ".py",
   "mimetype": "text/x-python",
   "name": "python",
   "nbconvert_exporter": "python",
   "pygments_lexer": "ipython3",
   "version": "3.6.3"
  },
  "toc": {
   "base_numbering": 1,
   "nav_menu": {},
   "number_sections": true,
   "sideBar": true,
   "skip_h1_title": false,
   "title_cell": "Table of Contents",
   "title_sidebar": "Contents",
   "toc_cell": false,
   "toc_position": {},
   "toc_section_display": true,
   "toc_window_display": false
  }
 },
 "nbformat": 4,
 "nbformat_minor": 2
}
