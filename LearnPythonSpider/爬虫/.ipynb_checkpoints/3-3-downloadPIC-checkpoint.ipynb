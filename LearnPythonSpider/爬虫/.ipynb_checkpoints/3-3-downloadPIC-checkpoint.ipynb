{
 "cells": [
  {
   "cell_type": "code",
   "execution_count": 1,
   "metadata": {
    "ExecuteTime": {
     "end_time": "2019-01-12T16:16:51.836925Z",
     "start_time": "2019-01-12T16:16:29.648214Z"
    }
   },
   "outputs": [
    {
     "name": "stdout",
     "output_type": "stream",
     "text": [
      "第 1 页\n",
      "第 1 张下载完成\n",
      "第 2 张下载完成\n",
      "第 3 张下载完成\n",
      "第 4 张下载完成\n",
      "第 5 张下载完成\n",
      "第 6 张下载完成\n",
      "第 7 张下载完成\n",
      "第 8 张下载完成\n",
      "第 9 张下载完成\n",
      "第 10 张下载完成\n",
      "第 11 张下载完成\n",
      "第 12 张下载完成\n",
      "第 13 张下载完成\n",
      "第 14 张下载完成\n",
      "第 15 张下载完成\n",
      "第 16 张下载完成\n",
      "第 17 张下载完成\n",
      "第 18 张下载完成\n",
      "第 19 张下载完成\n",
      "第 20 张下载完成\n",
      "第 21 张下载完成\n",
      "第 22 张下载完成\n",
      "第 23 张下载完成\n",
      "第 24 张下载完成\n",
      "第 25 张下载完成\n",
      "第 26 张下载完成\n",
      "第 27 张下载完成\n",
      "第 28 张下载完成\n",
      "第 29 张下载完成\n",
      "第 30 张下载完成\n",
      "第 2 页\n",
      "第 31 张下载完成\n",
      "第 32 张下载完成\n",
      "第 33 张下载完成\n",
      "第 34 张下载完成\n",
      "第 35 张下载完成\n",
      "第 36 张下载完成\n",
      "第 37 张下载完成\n",
      "第 38 张下载完成\n",
      "第 39 张下载完成\n",
      "第 40 张下载完成\n",
      "第 41 张下载完成\n",
      "第 42 张下载完成\n",
      "第 43 张下载完成\n",
      "第 44 张下载完成\n",
      "第 45 张下载完成\n",
      "第 46 张下载完成\n",
      "第 47 张下载完成\n",
      "第 48 张下载完成\n",
      "第 49 张下载完成\n",
      "第 50 张下载完成\n",
      "第 51 张下载完成\n",
      "第 52 张下载完成\n",
      "第 53 张下载完成\n",
      "第 54 张下载完成\n",
      "第 55 张下载完成\n",
      "第 56 张下载完成\n",
      "第 57 张下载完成\n",
      "第 58 张下载完成\n",
      "第 59 张下载完成\n",
      "第 60 张下载完成\n"
     ]
    }
   ],
   "source": [
    "from bs4 import BeautifulSoup\n",
    "import requests\n",
    "#https://car.autohome.com.cn/photolist/series/3862/p{}/\n",
    "#https://car.autohome.com.cn/photolist/series/36353/4527613.html#pvareaid=3454450\n",
    "all_url = 'https://car.autohome.com.cn/photolist/series/3862/p{}/'\n",
    "url = 'https://car.autohome.com.cn/photo/series/36053/1/{}.html'\n",
    "count = 0;\n",
    "for i in range(1,3):\n",
    "    print(\"-------第\",i,\"页-------\")\n",
    "    ALL_URL = all_url.format(i)\n",
    "    all_html = requests.get(ALL_URL).text\n",
    "    all_soup = BeautifulSoup(all_html, 'lxml')\n",
    "    all_img_ul = all_soup.find('ul', {\"id\": \"imgList\"})\n",
    "    all_link = all_img_ul.find_all('li')\n",
    "    all_id = [l['id'] for l in all_link]\n",
    "    for id in all_id:\n",
    "        URL = url.format(id[2:9])\n",
    "        html = requests.get(URL).text\n",
    "        soup = BeautifulSoup(html, 'lxml')\n",
    "        img_ul = soup.find_all('div', {\"class\": \"pic\"})\n",
    "        for ul in img_ul:\n",
    "            imgs = ul.find_all('img')\n",
    "            for img in imgs:\n",
    "                imgurl = 'https:' + img['src']\n",
    "                r = requests.get(imgurl, stream = True)\n",
    "                image_name = imgurl.split('/')[-1]\n",
    "                with open('./img/%s' % image_name, 'wb') as f:\n",
    "                    for chunk in r.iter_content(chunk_size=32):\n",
    "                        f.write(chunk)\n",
    "                    #print('Save %s' % image_name)\n",
    "                    count += 1\n",
    "                    print(\"第\",count,\"张下载完成\")\n"
   ]
  },
  {
   "cell_type": "code",
   "execution_count": 36,
   "metadata": {},
   "outputs": [
    {
     "name": "stdout",
     "output_type": "stream",
     "text": [
      "[<div class=\"pic\">\n",
      "<img id=\"img\" onside=\"-1\" src=\"//car2.autoimg.cn/cardfs/product/g27/M00/61/3C/1024x0_1_q87_autohomecar__ChcCQFuw5z2ALnJmAAikSrj7qzw385.jpg\"/>\n",
      "<script type=\"text/javascript\">\n",
      "\t\t\t\t\t\tvar bd = document.getElementsByTagName(\"body\")[0]; var pmain = document.getElementById(\"jsphoto-main\"); var imgSrc = img.src; if (screenWidth > 1024 && screenHeight > 768) { bd.className = \"wide-large sidebg-171111\" } else { img.src = imgSrc.replace(\"1024x0_1_q87_\", \"800x0_1_q87_\"); bd.className = \"sidebg-171111\" } pmain.style.display = \"block\"; var bigimg = $(\"img\"); var prevurl = '/photo/series/36053/1/4498462.html'; var nexturl = '/photo/series/36053/1/4498461.html'; var curprev = \"/images/pre.cur\"; var curnext = \"/images/next.cur\"; var lastpic = __CarModel.CarIsLastPic; var firstpic = __CarModel.CarIsFirstPic;\n",
      "\t\t\t\t\t</script>\n",
      "<script type=\"text/javascript\">\n",
      "    window.focus(); var touchPageX = 0; function bigImgMoveStart() { touchPageX = event.changedTouches[0].pageX } function bigImgMoveEnd() { if (Math.abs(touchPageX - event.changedTouches[0].pageX) > 100) { if (lastpic == 1) { if (touchPageX > event.changedTouches[0].pageX) { $(\"RemSerise\").style.display = \"block\"; $(\"spclose\").onclick = function () { $(\"RemSerise\").style.display = \"none\" } } else { referURL(touchPageX > event.changedTouches[0].pageX ? nexturl : prevurl) } } else if (firstpic == 1) { if (touchPageX > event.changedTouches[0].pageX) { referURL(touchPageX > event.changedTouches[0].pageX ? nexturl : prevurl) } } else { referURL(touchPageX > event.changedTouches[0].pageX ? nexturl : prevurl) } } } function referURL(url) { var isIe = (navigator.userAgent.indexOf('MSIE') >= 0) && (navigator.userAgent.indexOf('Opera') < 0); if (isIe) { var linka = document.createElement(\"a\"); linka.href = url; document.body.appendChild(linka); linka.click() } else { window.location = url } } function bigImgClick(el) { showCursor(el); if (lastpic == 1) { if (bigimg.getAttribute(\"onside\") == \"1\") { $(\"RemSerise\").style.display = \"block\"; $(\"spclose\").onclick = function () { $(\"RemSerise\").style.display = \"none\" } } else { referURL(bigimg.getAttribute(\"onside\") == 0 ? prevurl : nexturl) } } else { referURL(bigimg.getAttribute(\"onside\") == 0 ? prevurl : nexturl) } } if (window.addEventListener) { bigimg.addEventListener(\"mousemove\", showCursor, false); bigimg.addEventListener(\"click\", bigImgClick, false); bigimg.addEventListener(\"touchstart\", bigImgMoveStart, false); bigimg.addEventListener(\"touchend\", bigImgMoveEnd, false) } else if (window.attachEvent) { bigimg.attachEvent(\"onmousemove\", showCursor); bigimg.attachEvent(\"onclick\", bigImgClick) } function showCursor(el) { e = window.event || el; var o = bigimg; if (e.clientX < ((document.body.clientWidth - 210) / 2)) { if (firstpic != 1) { if (bigimg.getAttribute(\"onside\") != \"0\") { o.style.cursor = \"url(\" + curprev + \"),pointer\"; o.setAttribute(\"onside\", 0) } } } else { if (bigimg.getAttribute(\"onside\") != \"1\") { o.style.cursor = \"url(\" + curnext + \"),pointer\"; o.setAttribute(\"onside\", 1) } } }\n",
      "</script>\n",
      "</div>]\n"
     ]
    }
   ],
   "source": [
    "html = requests.get(URL).text\n",
    "soup = BeautifulSoup(html, 'lxml')\n",
    "img_ul = soup.find_all('div', {\"class\": \"pic\"})\n",
    "print(img_ul)"
   ]
  },
  {
   "cell_type": "code",
   "execution_count": 34,
   "metadata": {
    "collapsed": true
   },
   "outputs": [],
   "source": [
    "import os\n",
    "os.makedirs('./image/', exist_ok = True)"
   ]
  },
  {
   "cell_type": "code",
   "execution_count": 42,
   "metadata": {},
   "outputs": [
    {
     "name": "stdout",
     "output_type": "stream",
     "text": [
      "https://car2.autoimg.cn/cardfs/product/g27/M00/61/3C/1024x0_1_q87_autohomecar__ChcCQFuw5z2ALnJmAAikSrj7qzw385.jpg\n",
      "Save 1024x0_1_q87_autohomecar__ChcCQFuw5z2ALnJmAAikSrj7qzw385.jpg\n"
     ]
    }
   ],
   "source": [
    "for ul in img_ul:\n",
    "    imgs = ul.find_all('img')\n",
    "    for img in imgs:\n",
    "        url = 'https:' + img['src']\n",
    "        #print(url)\n",
    "        r = requests.get(url, stream = True)\n",
    "        image_name = url.split('/')[-1]\n",
    "        with open('./img/%s' % image_name, 'wb') as f:\n",
    "            for chunk in r.iter_content(chunk_size=32):\n",
    "                f.write(chunk)\n",
    "            print('Save %s' % image_name)"
   ]
  },
  {
   "cell_type": "code",
   "execution_count": null,
   "metadata": {
    "collapsed": true
   },
   "outputs": [],
   "source": []
  }
 ],
 "metadata": {
  "kernelspec": {
   "display_name": "Python 3",
   "language": "python",
   "name": "python3"
  },
  "language_info": {
   "codemirror_mode": {
    "name": "ipython",
    "version": 3
   },
   "file_extension": ".py",
   "mimetype": "text/x-python",
   "name": "python",
   "nbconvert_exporter": "python",
   "pygments_lexer": "ipython3",
   "version": "3.6.3"
  },
  "toc": {
   "base_numbering": 1,
   "nav_menu": {},
   "number_sections": true,
   "sideBar": true,
   "skip_h1_title": false,
   "title_cell": "Table of Contents",
   "title_sidebar": "Contents",
   "toc_cell": false,
   "toc_position": {},
   "toc_section_display": true,
   "toc_window_display": false
  }
 },
 "nbformat": 4,
 "nbformat_minor": 2
}
