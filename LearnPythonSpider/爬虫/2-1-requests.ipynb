{
 "cells": [
  {
   "cell_type": "code",
   "execution_count": 11,
   "metadata": {
    "slideshow": {
     "slide_type": "-"
    }
   },
   "outputs": [
    {
     "name": "stdout",
     "output_type": "stream",
     "text": [
      "http://www.baidu.com/s?wd=%E8%8E%AB%E7%83%A6Python\n"
     ]
    }
   ],
   "source": [
    "import requests\n",
    "import webbrowser\n",
    "\n",
    "param = {\"wd\":\"莫烦Python\"}\n",
    "r = requests.get('http://www.baidu.com/s',params = param)  #get方法\n",
    "print(r.url)"
   ]
  },
  {
   "cell_type": "code",
   "execution_count": 13,
   "metadata": {},
   "outputs": [
    {
     "name": "stdout",
     "output_type": "stream",
     "text": [
      "Hello there, Xuefeng Tao!\n"
     ]
    }
   ],
   "source": [
    "data = {'firstname':\"Xuefeng\",'lastname':\"Tao\"}\n",
    "r = requests.post('http://pythonscraping.com/pages/files/processing.php',data = data)#post方法\n",
    "print(r.text)"
   ]
  },
  {
   "cell_type": "code",
   "execution_count": 15,
   "metadata": {},
   "outputs": [
    {
     "name": "stdout",
     "output_type": "stream",
     "text": [
      "uploads/1536152199795.jpg\n",
      "The file 1536152199795.jpg has been uploaded.\n"
     ]
    }
   ],
   "source": [
    "file = {'uploadFile': open('/Users/taoxuefeng/Pictures/1536152199795.jpg', 'rb')}\n",
    "r = requests.post(\n",
    "    'http://pythonscraping.com/pages/files/processing2.php',\n",
    "    files = file)\n",
    "print(r.text)"
   ]
  },
  {
   "cell_type": "code",
   "execution_count": 19,
   "metadata": {},
   "outputs": [
    {
     "name": "stdout",
     "output_type": "stream",
     "text": [
      "{'loggedin': '1', 'username': '123'}\n",
      "\n",
      "<h2>Welcome to the Website!</h2>\n",
      "You have logged in successfully! <br><a href=\"profile.php\">Check out your profile!</a>\n"
     ]
    }
   ],
   "source": [
    "payload = {'username':\"123\",'password':\"password\"}\n",
    "r = requests.post('http://pythonscraping.com/pages/cookies/welcome.php',data = payload)\n",
    "print(r.cookies.get_dict())\n",
    "\n",
    "r = requests.get('http://pythonscraping.com/pages/cookies/welcome.php',cookies = r.cookies)\n",
    "print(r.text)"
   ]
  },
  {
   "cell_type": "code",
   "execution_count": 20,
   "metadata": {},
   "outputs": [
    {
     "name": "stdout",
     "output_type": "stream",
     "text": [
      "{'loggedin': '1', 'username': '123'}\n",
      "\n",
      "<h2>Welcome to the Website!</h2>\n",
      "You have logged in successfully! <br><a href=\"profile.php\">Check out your profile!</a>\n"
     ]
    }
   ],
   "source": [
    "session = requests.Session()\n",
    "payload = {'username':\"123\",'password':\"password\"}\n",
    "r = session.post('http://pythonscraping.com/pages/cookies/welcome.php',data = payload)\n",
    "print(r.cookies.get_dict())\n",
    "\n",
    "r = session.get('http://pythonscraping.com/pages/cookies/welcome.php')\n",
    "print(r.text)"
   ]
  },
  {
   "cell_type": "code",
   "execution_count": null,
   "metadata": {},
   "outputs": [],
   "source": []
  }
 ],
 "metadata": {
  "kernelspec": {
   "display_name": "Python 3",
   "language": "python",
   "name": "python3"
  },
  "language_info": {
   "codemirror_mode": {
    "name": "ipython",
    "version": 3
   },
   "file_extension": ".py",
   "mimetype": "text/x-python",
   "name": "python",
   "nbconvert_exporter": "python",
   "pygments_lexer": "ipython3",
   "version": "3.6.3"
  }
 },
 "nbformat": 4,
 "nbformat_minor": 2
}
