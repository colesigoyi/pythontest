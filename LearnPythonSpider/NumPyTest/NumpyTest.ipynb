{
 "cells": [
  {
   "cell_type": "markdown",
   "metadata": {},
   "source": [
    "# numpy基础"
   ]
  },
  {
   "cell_type": "code",
   "execution_count": 31,
   "metadata": {},
   "outputs": [
    {
     "name": "stdout",
     "output_type": "stream",
     "text": [
      "(array([[1, 2, 3],\n",
      "       [4, 5, 6],\n",
      "       [7, 8, 9]]),)\n"
     ]
    }
   ],
   "source": [
    "import numpy as np\n",
    "\n",
    "array = np.array([[1,2,3],\n",
    "                 [4,5,6],\n",
    "                 [7,8,9]],dtype = np.int64)#位数越小，占用空间越小，但不精确\n",
    "\n",
    "print(array)"
   ]
  },
  {
   "cell_type": "code",
   "execution_count": 12,
   "metadata": {},
   "outputs": [
    {
     "name": "stdout",
     "output_type": "stream",
     "text": [
      "number of dim: 2\n"
     ]
    }
   ],
   "source": [
    "print('number of dim:', array.ndim)#输出纬度"
   ]
  },
  {
   "cell_type": "code",
   "execution_count": 13,
   "metadata": {},
   "outputs": [
    {
     "name": "stdout",
     "output_type": "stream",
     "text": [
      "sgape: (3, 3)\n"
     ]
    }
   ],
   "source": [
    "print('sgape:', array.shape)#行数"
   ]
  },
  {
   "cell_type": "code",
   "execution_count": 10,
   "metadata": {},
   "outputs": [
    {
     "name": "stdout",
     "output_type": "stream",
     "text": [
      "size: 6\n"
     ]
    }
   ],
   "source": [
    "print('size:', array.size)#元素个数"
   ]
  },
  {
   "cell_type": "code",
   "execution_count": 24,
   "metadata": {},
   "outputs": [
    {
     "name": "stdout",
     "output_type": "stream",
     "text": [
      "int64\n"
     ]
    }
   ],
   "source": [
    "print(array.dtype)"
   ]
  },
  {
   "cell_type": "code",
   "execution_count": 26,
   "metadata": {},
   "outputs": [],
   "source": [
    "a = np.zeros((3,4))"
   ]
  },
  {
   "cell_type": "code",
   "execution_count": 27,
   "metadata": {},
   "outputs": [
    {
     "name": "stdout",
     "output_type": "stream",
     "text": [
      "[[ 0.  0.  0.  0.]\n",
      " [ 0.  0.  0.  0.]\n",
      " [ 0.  0.  0.  0.]]\n"
     ]
    }
   ],
   "source": [
    "print(a)"
   ]
  },
  {
   "cell_type": "code",
   "execution_count": 28,
   "metadata": {},
   "outputs": [
    {
     "name": "stdout",
     "output_type": "stream",
     "text": [
      "[[ 1.  1.  1.  1.]\n",
      " [ 1.  1.  1.  1.]\n",
      " [ 1.  1.  1.  1.]]\n"
     ]
    }
   ],
   "source": [
    "b = np.ones((3,4))\n",
    "print(b)"
   ]
  },
  {
   "cell_type": "code",
   "execution_count": 33,
   "metadata": {},
   "outputs": [
    {
     "name": "stdout",
     "output_type": "stream",
     "text": [
      "[[ 1.  1.  1.  1.]\n",
      " [ 1.  1.  1.  1.]\n",
      " [ 1.  1.  1.  1.]]\n"
     ]
    }
   ],
   "source": [
    "c = np.empty((3,4))\n",
    "print(c)"
   ]
  },
  {
   "cell_type": "code",
   "execution_count": 34,
   "metadata": {},
   "outputs": [
    {
     "name": "stdout",
     "output_type": "stream",
     "text": [
      "[10 12 14 16 18]\n"
     ]
    }
   ],
   "source": [
    "d = np.arange(10,20,2)\n",
    "print(d)"
   ]
  },
  {
   "cell_type": "code",
   "execution_count": 35,
   "metadata": {},
   "outputs": [
    {
     "name": "stdout",
     "output_type": "stream",
     "text": [
      "[[ 0  1  2  3]\n",
      " [ 4  5  6  7]\n",
      " [ 8  9 10 11]]\n"
     ]
    }
   ],
   "source": [
    "e = np.arange(12).reshape((3,4))\n",
    "print(e)"
   ]
  },
  {
   "cell_type": "code",
   "execution_count": 47,
   "metadata": {},
   "outputs": [
    {
     "name": "stdout",
     "output_type": "stream",
     "text": [
      "[[  1.           1.47368421   1.94736842   2.42105263]\n",
      " [  2.89473684   3.36842105   3.84210526   4.31578947]\n",
      " [  4.78947368   5.26315789   5.73684211   6.21052632]\n",
      " [  6.68421053   7.15789474   7.63157895   8.10526316]\n",
      " [  8.57894737   9.05263158   9.52631579  10.        ]]\n"
     ]
    }
   ],
   "source": [
    "f = np.linspace(1,10,20).reshape((5,4))\n",
    "print(f)"
   ]
  },
  {
   "cell_type": "code",
   "execution_count": 54,
   "metadata": {},
   "outputs": [
    {
     "name": "stdout",
     "output_type": "stream",
     "text": [
      "[10 20 30 40] [0 1 2 3]\n",
      "[10 19 28 37]\n",
      "[0 1 4 9]\n",
      "[-5.44021111  9.12945251 -9.88031624  7.4511316 ]\n",
      "[ True False False False]\n",
      "[False False False  True]\n"
     ]
    }
   ],
   "source": [
    "a = np.array([10,20,30,40])\n",
    "b = np.arange(4)\n",
    "print(a,b)\n",
    "c = a-b\n",
    "print(c)\n",
    "d = b**2  #几次方使用双星号\n",
    "print(d)\n",
    "e = 10*np.sin(a)\n",
    "print(e)\n",
    "print(a<15)\n",
    "print(b==3)"
   ]
  },
  {
   "cell_type": "code",
   "execution_count": 69,
   "metadata": {},
   "outputs": [
    {
     "name": "stdout",
     "output_type": "stream",
     "text": [
      "[[1 1]\n",
      " [0 1]]\n",
      "[[0 1]\n",
      " [2 3]]\n",
      "[[0 1]\n",
      " [0 3]]\n",
      "[[2 4]\n",
      " [2 3]]\n",
      "true\n"
     ]
    }
   ],
   "source": [
    "a = np.array([[1,1],\n",
    "            [0,1]],)\n",
    "b = np.arange(4).reshape(2,2)\n",
    "print(a)\n",
    "print(b)\n",
    "\n",
    "c = a*b  #逐个相乘\n",
    "d = np.dot(a,b)#矩阵乘法\n",
    "e = a.dot(b)\n",
    "\n",
    "print(c)\n",
    "print(d)\n",
    "\n",
    "if d.all() == e.all():\n",
    "    print(\"true\")\n",
    "else:\n",
    "    print(\"false\")"
   ]
  },
  {
   "cell_type": "code",
   "execution_count": 146,
   "metadata": {},
   "outputs": [
    {
     "name": "stdout",
     "output_type": "stream",
     "text": [
      "[[ 0.44887332  0.29351536  0.4955915   0.31650077]\n",
      " [ 0.17605892  0.19689103  0.26861157  0.34020782]]\n",
      "2.53625027806\n",
      "0.495591499407\n",
      "0.176058919993\n",
      "行求和: [ 1.55448095  0.98176933]\n",
      "列求和: [ 0.62493224  0.49040638  0.76420307  0.65670859]\n",
      "每一行重的最大值： [ 0.4955915   0.34020782]\n",
      "每一列中的最小值： [ 0.17605892  0.19689103  0.26861157  0.31650077]\n"
     ]
    }
   ],
   "source": [
    "a = np.random.random((2,4))\n",
    "print(a)\n",
    "print(np.sum(a))\n",
    "print(np.max(a))\n",
    "print(np.min(a))\n",
    "print(\"行求和:\",np.sum(a, axis=1))\n",
    "print(\"列求和:\",np.sum(a, axis=0))\n",
    "print(\"每一行重的最大值：\",np.max(a, axis=1))\n",
    "print(\"每一列中的最小值：\",np.min(a, axis=0))"
   ]
  },
  {
   "cell_type": "code",
   "execution_count": 147,
   "metadata": {},
   "outputs": [
    {
     "name": "stdout",
     "output_type": "stream",
     "text": [
      "[[14 13 12 11]\n",
      " [10  9  8  7]\n",
      " [ 6  5  4  3]]\n",
      "-------------\n",
      "最小值索引: 11\n",
      "最大值索引: 0\n",
      "-------------\n",
      "平均值: 8.5\n",
      "平均值: 8.5\n",
      "平均值: 8.5\n",
      "-------------\n",
      "中位数: 8.5\n",
      "-------------\n",
      "累加: [ 14  27  39  50  60  69  77  84  90  95  99 102]\n",
      "-------------\n",
      "累差: [[-1 -1 -1]\n",
      " [-1 -1 -1]\n",
      " [-1 -1 -1]]\n",
      "-------------\n",
      "对应位置: (array([0, 0, 0, 0, 1, 1, 1, 1, 2, 2, 2, 2]), array([0, 1, 2, 3, 0, 1, 2, 3, 0, 1, 2, 3]))\n",
      "-------------\n",
      "逐行排序: [[11 12 13 14]\n",
      " [ 7  8  9 10]\n",
      " [ 3  4  5  6]]\n",
      "-------------\n",
      "矩阵反向: [[14 10  6]\n",
      " [13  9  5]\n",
      " [12  8  4]\n",
      " [11  7  3]]\n",
      "矩阵反向: [[14 10  6]\n",
      " [13  9  5]\n",
      " [12  8  4]\n",
      " [11  7  3]]\n",
      "-------------\n",
      "矩阵乘法: [[332 302 272 242]\n",
      " [302 275 248 221]\n",
      " [272 248 224 200]\n",
      " [242 221 200 179]]\n",
      "-------------\n",
      "变换: [[9 9 9 9]\n",
      " [9 9 8 7]\n",
      " [6 5 5 5]]\n",
      "-------------\n",
      ": [ 10.   9.   8.   7.]\n"
     ]
    }
   ],
   "source": [
    "A = np.arange(14,2,-1).reshape((3,4))\n",
    "print(A)\n",
    "print('-------------')\n",
    "print('最小值索引:',np.argmin(A))\n",
    "print('最大值索引:',np.argmax(A))\n",
    "print('-------------')\n",
    "print('平均值:', np.mean(A))\n",
    "print('平均值:', A.mean())\n",
    "print('平均值:',np.average(A))\n",
    "print('-------------')\n",
    "print('中位数:',np.median(A))\n",
    "print('-------------')\n",
    "print('累加:',np.cumsum(A))\n",
    "print('-------------')\n",
    "print('累差:',np.diff(A))\n",
    "print('-------------')\n",
    "print('对应位置:',np.nonzero(A))\n",
    "print('-------------')\n",
    "print('逐行排序:',np.sort(A))\n",
    "print('-------------')\n",
    "print('矩阵反向:',np.transpose(A))\n",
    "print('矩阵反向:',A.T)\n",
    "print('-------------')\n",
    "print('矩阵乘法:',(A.T).dot(A))\n",
    "print('-------------')\n",
    "print('变换:',np.clip(A,5,9))#所有小于5的数都等于5，所有大于9的数都等于9,中间的数保持不变\n",
    "print('-------------')\n",
    "print(':',np.mean(A,axis=0))"
   ]
  },
  {
   "cell_type": "code",
   "execution_count": 148,
   "metadata": {},
   "outputs": [
    {
     "name": "stdout",
     "output_type": "stream",
     "text": [
      "[[ 3  4  5  6]\n",
      " [ 7  8  9 10]\n",
      " [11 12 13 14]]\n",
      "-------------------------\n",
      "14\n",
      "-------------------------\n",
      "14\n",
      "-------------------------\n",
      "第3行： [11 12 13 14]\n",
      "-------------------------\n",
      "第2列： [ 4  8 12]\n",
      "-------------------------\n",
      "打印 1 行: [3 4 5 6]\n",
      "打印 2 行: [ 7  8  9 10]\n",
      "打印 3 行: [11 12 13 14]\n",
      "-------------------------\n",
      "打印 1 列: [ 3  7 11]\n",
      "打印 2 列: [ 4  8 12]\n",
      "打印 3 列: [ 5  9 13]\n",
      "打印 4 列: [ 6 10 14]\n",
      "-------------------------\n",
      "[ 3  4  5  6  7  8  9 10 11 12 13 14]\n",
      "输出每一项:\n",
      "3\n",
      "4\n",
      "5\n",
      "6\n",
      "7\n",
      "8\n",
      "9\n",
      "10\n",
      "11\n",
      "12\n",
      "13\n",
      "14\n",
      "-------------------------\n"
     ]
    }
   ],
   "source": [
    "A = np.arange(3,15).reshape((3,4))\n",
    "count = 0\n",
    "print(A)\n",
    "print('-------------------------')\n",
    "print(A[2][3])\n",
    "print('-------------------------')\n",
    "print(A[2, 3])\n",
    "print('-------------------------')\n",
    "print('第3行：',A[2, :])\n",
    "print('-------------------------')\n",
    "print('第2列：',A[:, 1])\n",
    "print('-------------------------')\n",
    "for row in A:\n",
    "    count += 1\n",
    "    print('打印',count,'行:',row)\n",
    "print('-------------------------')\n",
    "count = 0\n",
    "for column in A.T:\n",
    "    count += 1\n",
    "    print('打印',count,'列:',column)\n",
    "print('-------------------------')\n",
    "print(A.flatten())#迭代器\n",
    "print('输出每一项:')\n",
    "for item in A.flat:\n",
    "    print(item)\n",
    "print('-------------------------')"
   ]
  },
  {
   "cell_type": "markdown",
   "metadata": {},
   "source": [
    "# numpy array合并"
   ]
  },
  {
   "cell_type": "code",
   "execution_count": 153,
   "metadata": {},
   "outputs": [
    {
     "name": "stdout",
     "output_type": "stream",
     "text": [
      "-------------------------\n",
      "[[1 1 1]\n",
      " [2 2 2]]\n",
      "-------------------------\n",
      "(3,) (2, 3)\n",
      "-------------------------\n",
      "[1 1 1 2 2 2]\n",
      "(3,) (6,)\n",
      "-------------------------\n",
      "[[1 1 1]]\n",
      "(1, 3)\n",
      "[[1]\n",
      " [1]\n",
      " [1]]\n",
      "-------------------------\n",
      "[[1]\n",
      " [1]\n",
      " [1]\n",
      " [2]\n",
      " [2]\n",
      " [2]]\n",
      "[[1 2]\n",
      " [1 2]\n",
      " [1 2]]\n",
      "-------------------------\n",
      "[[1]\n",
      " [1]\n",
      " [1]\n",
      " [2]\n",
      " [2]\n",
      " [2]\n",
      " [1]\n",
      " [1]\n",
      " [1]\n",
      " [2]\n",
      " [2]\n",
      " [2]]\n",
      "-------------------------\n",
      "[[1 2 1 2]\n",
      " [1 2 1 2]\n",
      " [1 2 1 2]]\n",
      "-------------------------\n",
      "-------------------------\n",
      "-------------------------\n"
     ]
    }
   ],
   "source": [
    "A = np.array([1,1,1])\n",
    "B = np.array([2,2,2])\n",
    "print('-------------------------')\n",
    "print(np.vstack((A, B)))     #AB上下合并\n",
    "print('-------------------------')\n",
    "C = np.vstack((A, B))\n",
    "print(A.shape, C.shape)\n",
    "print('-------------------------')\n",
    "print(np.hstack((A, B)))     #AB左右合并\n",
    "D = np.hstack((A, B))\n",
    "print(A.shape, D.shape)\n",
    "print('-------------------------')\n",
    "print(A[np.newaxis,:])  #将A从序列转为矩阵,在横向加一个纬度\n",
    "print(A[np.newaxis,:].shape)\n",
    "print(A[:,np.newaxis])  #将A从序列转为矩阵,在纵向加一个纬度\n",
    "print('-------------------------')\n",
    "A = np.array([1,1,1])[:,np.newaxis]\n",
    "B = np.array([2,2,2])[:,np.newaxis]\n",
    "print(np.vstack((A, B)))\n",
    "print(np.hstack((A, B)))\n",
    "print('-------------------------')\n",
    "C = np.concatenate((A,B,A,B))\n",
    "print(C)\n",
    "print('-------------------------')\n",
    "D = np.concatenate((A,B,A,B),axis = 1)#axis=0是上下合并，=1是左右合并\n",
    "print(D)\n",
    "print('-------------------------')\n",
    "print('-------------------------')\n",
    "print('-------------------------')"
   ]
  },
  {
   "cell_type": "markdown",
   "metadata": {},
   "source": [
    "# numpy array分割"
   ]
  },
  {
   "cell_type": "code",
   "execution_count": 155,
   "metadata": {},
   "outputs": [
    {
     "name": "stdout",
     "output_type": "stream",
     "text": [
      "[[ 0  1  2  3]\n",
      " [ 4  5  6  7]\n",
      " [ 8  9 10 11]]\n"
     ]
    }
   ],
   "source": [
    "A = np.arange(12).reshape((3,4))\n",
    "print(A)"
   ]
  },
  {
   "cell_type": "code",
   "execution_count": null,
   "metadata": {},
   "outputs": [],
   "source": []
  }
 ],
 "metadata": {
  "kernelspec": {
   "display_name": "Python 3",
   "language": "python",
   "name": "python3"
  },
  "language_info": {
   "codemirror_mode": {
    "name": "ipython",
    "version": 3
   },
   "file_extension": ".py",
   "mimetype": "text/x-python",
   "name": "python",
   "nbconvert_exporter": "python",
   "pygments_lexer": "ipython3",
   "version": "3.6.3"
  }
 },
 "nbformat": 4,
 "nbformat_minor": 2
}
