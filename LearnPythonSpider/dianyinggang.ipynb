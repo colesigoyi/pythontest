{
 "cells": [
  {
   "cell_type": "markdown",
   "metadata": {},
   "source": [
    "#标题"
   ]
  },
  {
   "cell_type": "code",
   "execution_count": 1,
   "metadata": {
    "ExecuteTime": {
     "end_time": "2019-01-12T16:16:15.354076Z",
     "start_time": "2019-01-12T16:16:12.213821Z"
    }
   },
   "outputs": [
    {
     "name": "stdout",
     "output_type": "stream",
     "text": [
      "2019-01-13 电影资源：\n",
      "1 : 怪物与人         http://www.dygang.net/ys/20190112/42033.htm\n",
      "2 : 引爆点         http://www.dygang.net/ys/20190112/42030.htm\n",
      "3 : 艾拉妮丝         http://www.dygang.net/ys/20190112/42029.htm\n",
      "4 : 蓝色项圈         http://www.dygang.net/ys/20190112/42028.htm\n",
      "5 : 奇妙幽灵         http://www.dygang.net/ys/20190112/42027.htm\n",
      "6 : 兴风作浪         http://www.dygang.net/ys/20190112/42026.htm\n",
      "7 : 极速杀机         http://www.dygang.net/ys/20181119/41635.htm\n",
      "8 : 绿皮书         http://www.dygang.net/ys/20190111/42023.htm\n",
      "9 : 东海龙棺         http://www.dygang.net/ys/20190111/42022.htm\n",
      "10 : 惊涛飓浪2018         http://www.dygang.net/ys/20181215/41828.htm\n",
      "11 : 疯狂的契约         http://www.dygang.net/ys/20190110/42019.htm\n",
      "12 : 英珠         http://www.dygang.net/ys/20190110/42018.htm\n",
      "13 : 脱欧：无理之战         http://www.dygang.net/ys/20190110/42017.htm\n",
      "14 : 哥斯拉：噬星者         http://www.dygang.net/dmq/20190110/42016.htm\n",
      "15 : 锈溪惊魂         http://www.dygang.net/ys/20190110/42015.htm\n",
      "16 : 恋爱成瘾         http://www.dygang.net/ys/20190110/42014.htm\n"
     ]
    }
   ],
   "source": [
    "from bs4 import BeautifulSoup\n",
    "import re\n",
    "from urllib.request import urlopen\n",
    "import datetime\n",
    "html = urlopen(\"http://www.dygang.net/\"\n",
    "              ).read().decode('gb2312')\n",
    "soup = BeautifulSoup(html, features='lxml')  #以lxml形式进行对html的解析\n",
    "\n",
    "all_url_text = soup.find('div',{\"id\":\"tab1_div_0\"}) #和上面的功能等价\n",
    "\n",
    "all_url = all_url_text.find_all('a',{\"class\":\"c2\"})\n",
    "count = 0\n",
    "today=datetime.date.today()\n",
    "print(today,\"电影资源：\")\n",
    "for url in all_url:\n",
    "    count += 1\n",
    "    print(count,\":\",url.get_text(),'       ',url['href'])"
   ]
  },
  {
   "cell_type": "code",
   "execution_count": null,
   "metadata": {
    "collapsed": true
   },
   "outputs": [],
   "source": []
  }
 ],
 "metadata": {
  "kernelspec": {
   "display_name": "Python 3",
   "language": "python",
   "name": "python3"
  },
  "language_info": {
   "codemirror_mode": {
    "name": "ipython",
    "version": 3
   },
   "file_extension": ".py",
   "mimetype": "text/x-python",
   "name": "python",
   "nbconvert_exporter": "python",
   "pygments_lexer": "ipython3",
   "version": "3.6.3"
  },
  "toc": {
   "base_numbering": 1,
   "nav_menu": {},
   "number_sections": true,
   "sideBar": true,
   "skip_h1_title": false,
   "title_cell": "Table of Contents",
   "title_sidebar": "Contents",
   "toc_cell": false,
   "toc_position": {},
   "toc_section_display": true,
   "toc_window_display": false
  }
 },
 "nbformat": 4,
 "nbformat_minor": 2
}
