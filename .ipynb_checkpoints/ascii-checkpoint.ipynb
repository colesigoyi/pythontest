{
 "cells": [
  {
   "cell_type": "code",
   "execution_count": 1,
   "metadata": {},
   "outputs": [
    {
     "name": "stderr",
     "output_type": "stream",
     "text": [
      "usage: ipykernel_launcher.py [-h] [-o OUTPUT] [--width WIDTH]\n",
      "                             [--height HEIGHT]\n",
      "                             file\n",
      "ipykernel_launcher.py: error: unrecognized arguments: -f\n"
     ]
    },
    {
     "ename": "SystemExit",
     "evalue": "2",
     "output_type": "error",
     "traceback": [
      "An exception has occurred, use %tb to see the full traceback.\n",
      "\u001b[0;31mSystemExit\u001b[0m\u001b[0;31m:\u001b[0m 2\n"
     ]
    },
    {
     "name": "stderr",
     "output_type": "stream",
     "text": [
      "/Users/taoxuefeng/anaconda3/lib/python3.6/site-packages/IPython/core/interactiveshell.py:2870: UserWarning: To exit: use 'exit', 'quit', or Ctrl-D.\n",
      "  warn(\"To exit: use 'exit', 'quit', or Ctrl-D.\", stacklevel=1)\n"
     ]
    }
   ],
   "source": [
    "from PIL import Image\n",
    "import argparse\n",
    "\n",
    "#命令行输入参数处理\n",
    "parser = argparse.ArgumentParser()\n",
    "\n",
    "parser.add_argument('file')     #输入文件\n",
    "parser.add_argument('-o', '--output')   #输出文件\n",
    "parser.add_argument('--width', type = int, default = 80) #输出字符画宽\n",
    "parser.add_argument('--height', type = int, default = 80) #输出字符画高\n",
    "\n",
    "#获取参数\n",
    "args = parser.parse_args()\n",
    "\n",
    "IMG = args.file\n",
    "WIDTH = args.width\n",
    "HEIGHT = args.height\n",
    "OUTPUT = args.output\n",
    "\n",
    "ascii_char = list(\"$@B%8&WM#*oahkbdpqwmZO0QLCJUYXzcvunxrjft/\\|()1{}[]?-_+~<>i!lI;:,\\\"^`'. \")\n",
    "\n",
    "# 将256灰度映射到70个字符上\n",
    "def get_char(r,g,b,alpha = 256):\n",
    "    if alpha == 0:\n",
    "        return ' '\n",
    "    length = len(ascii_char)\n",
    "    gray = int(0.2126 * r + 0.7152 * g + 0.0722 * b)\n",
    "\n",
    "    unit = (256.0 + 1)/length\n",
    "    return ascii_char[int(gray/unit)]\n",
    "\n",
    "if __name__ == '__main__':\n",
    "\n",
    "    im = Image.open(IMG)\n",
    "    im = im.resize((WIDTH,HEIGHT), Image.NEAREST)\n",
    "\n",
    "    txt = \"\"\n",
    "\n",
    "    for i in range(HEIGHT):\n",
    "        for j in range(WIDTH):\n",
    "            txt += get_char(*im.getpixel((j,i)))\n",
    "        txt += '\\n'\n",
    "\n",
    "    print(txt)\n",
    "\n",
    "    #字符画输出到文件\n",
    "    if OUTPUT:\n",
    "        with open(OUTPUT,'w') as f:\n",
    "            f.write(txt)\n",
    "    else:\n",
    "        with open(\"output.txt\",'w') as f:\n",
    "            f.write(txt)"
   ]
  },
  {
   "cell_type": "code",
   "execution_count": null,
   "metadata": {},
   "outputs": [],
   "source": []
  }
 ],
 "metadata": {
  "kernelspec": {
   "display_name": "Python 3",
   "language": "python",
   "name": "python3"
  },
  "language_info": {
   "codemirror_mode": {
    "name": "ipython",
    "version": 3
   },
   "file_extension": ".py",
   "mimetype": "text/x-python",
   "name": "python",
   "nbconvert_exporter": "python",
   "pygments_lexer": "ipython3",
   "version": "3.6.3"
  }
 },
 "nbformat": 4,
 "nbformat_minor": 2
}
